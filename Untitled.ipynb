{
 "cells": [
  {
   "cell_type": "markdown",
   "metadata": {},
   "source": [
    "#### In this project we are about to build a machine learning model which can classify if the mail is spam or ham"
   ]
  },
  {
   "cell_type": "code",
   "execution_count": 1,
   "metadata": {},
   "outputs": [],
   "source": [
    "import pandas as pd"
   ]
  },
  {
   "cell_type": "code",
   "execution_count": 2,
   "metadata": {},
   "outputs": [],
   "source": [
    "data = pd.read_csv('spam.csv',encoding='latin-1')"
   ]
  },
  {
   "cell_type": "markdown",
   "metadata": {},
   "source": [
    "#### Lets view our dataset"
   ]
  },
  {
   "cell_type": "code",
   "execution_count": 3,
   "metadata": {},
   "outputs": [
    {
     "data": {
      "text/html": [
       "<div>\n",
       "<style scoped>\n",
       "    .dataframe tbody tr th:only-of-type {\n",
       "        vertical-align: middle;\n",
       "    }\n",
       "\n",
       "    .dataframe tbody tr th {\n",
       "        vertical-align: top;\n",
       "    }\n",
       "\n",
       "    .dataframe thead th {\n",
       "        text-align: right;\n",
       "    }\n",
       "</style>\n",
       "<table border=\"1\" class=\"dataframe\">\n",
       "  <thead>\n",
       "    <tr style=\"text-align: right;\">\n",
       "      <th></th>\n",
       "      <th>v1</th>\n",
       "      <th>v2</th>\n",
       "      <th>Unnamed: 2</th>\n",
       "      <th>Unnamed: 3</th>\n",
       "      <th>Unnamed: 4</th>\n",
       "    </tr>\n",
       "  </thead>\n",
       "  <tbody>\n",
       "    <tr>\n",
       "      <th>0</th>\n",
       "      <td>ham</td>\n",
       "      <td>Go until jurong point, crazy.. Available only ...</td>\n",
       "      <td>NaN</td>\n",
       "      <td>NaN</td>\n",
       "      <td>NaN</td>\n",
       "    </tr>\n",
       "    <tr>\n",
       "      <th>1</th>\n",
       "      <td>ham</td>\n",
       "      <td>Ok lar... Joking wif u oni...</td>\n",
       "      <td>NaN</td>\n",
       "      <td>NaN</td>\n",
       "      <td>NaN</td>\n",
       "    </tr>\n",
       "  </tbody>\n",
       "</table>\n",
       "</div>"
      ],
      "text/plain": [
       "    v1                                                 v2 Unnamed: 2  \\\n",
       "0  ham  Go until jurong point, crazy.. Available only ...        NaN   \n",
       "1  ham                      Ok lar... Joking wif u oni...        NaN   \n",
       "\n",
       "  Unnamed: 3 Unnamed: 4  \n",
       "0        NaN        NaN  \n",
       "1        NaN        NaN  "
      ]
     },
     "execution_count": 3,
     "metadata": {},
     "output_type": "execute_result"
    }
   ],
   "source": [
    "data.head(2)"
   ]
  },
  {
   "cell_type": "code",
   "execution_count": 4,
   "metadata": {},
   "outputs": [
    {
     "name": "stdout",
     "output_type": "stream",
     "text": [
      "44\n",
      "11\n",
      "6\n"
     ]
    }
   ],
   "source": [
    "print(len(data['Unnamed: 2'].unique()))\n",
    "print(len(data['Unnamed: 3'].unique()))\n",
    "print(len(data['Unnamed: 4'].unique()))"
   ]
  },
  {
   "cell_type": "code",
   "execution_count": 5,
   "metadata": {},
   "outputs": [
    {
     "name": "stdout",
     "output_type": "stream",
     "text": [
      "5522\n",
      "5560\n",
      "5566\n"
     ]
    }
   ],
   "source": [
    "print( len(data['v1']) -  data['Unnamed: 2'].count() )\n",
    "print( len(data['v1']) -  data['Unnamed: 3'].count() )\n",
    "print( len(data['v1']) -  data['Unnamed: 4'].count() )"
   ]
  },
  {
   "cell_type": "markdown",
   "metadata": {},
   "source": [
    "### We can see as the column viz 'Unnamed: 2', 'Unnamed: 3', 'Unnamed: 4' has nan value greater than 5500. So, it is now dropped in next step."
   ]
  },
  {
   "cell_type": "code",
   "execution_count": 6,
   "metadata": {},
   "outputs": [],
   "source": [
    "data = data.drop(['Unnamed: 2', 'Unnamed: 3', 'Unnamed: 4'], axis=1)"
   ]
  },
  {
   "cell_type": "markdown",
   "metadata": {},
   "source": [
    "#### Now, replacing column v1 with value 'ham' to 1 and with 'spam' to 0 "
   ]
  },
  {
   "cell_type": "code",
   "execution_count": 7,
   "metadata": {},
   "outputs": [],
   "source": [
    "data['v1'] = data['v1'].map({'ham':1, 'spam':0})"
   ]
  },
  {
   "cell_type": "code",
   "execution_count": 8,
   "metadata": {},
   "outputs": [
    {
     "data": {
      "text/html": [
       "<div>\n",
       "<style scoped>\n",
       "    .dataframe tbody tr th:only-of-type {\n",
       "        vertical-align: middle;\n",
       "    }\n",
       "\n",
       "    .dataframe tbody tr th {\n",
       "        vertical-align: top;\n",
       "    }\n",
       "\n",
       "    .dataframe thead tr th {\n",
       "        text-align: left;\n",
       "    }\n",
       "\n",
       "    .dataframe thead tr:last-of-type th {\n",
       "        text-align: right;\n",
       "    }\n",
       "</style>\n",
       "<table border=\"1\" class=\"dataframe\">\n",
       "  <thead>\n",
       "    <tr>\n",
       "      <th></th>\n",
       "      <th colspan=\"4\" halign=\"left\">v2</th>\n",
       "    </tr>\n",
       "    <tr>\n",
       "      <th></th>\n",
       "      <th>count</th>\n",
       "      <th>unique</th>\n",
       "      <th>top</th>\n",
       "      <th>freq</th>\n",
       "    </tr>\n",
       "    <tr>\n",
       "      <th>v1</th>\n",
       "      <th></th>\n",
       "      <th></th>\n",
       "      <th></th>\n",
       "      <th></th>\n",
       "    </tr>\n",
       "  </thead>\n",
       "  <tbody>\n",
       "    <tr>\n",
       "      <th>0</th>\n",
       "      <td>747</td>\n",
       "      <td>653</td>\n",
       "      <td>Please call our customer service representativ...</td>\n",
       "      <td>4</td>\n",
       "    </tr>\n",
       "    <tr>\n",
       "      <th>1</th>\n",
       "      <td>4825</td>\n",
       "      <td>4516</td>\n",
       "      <td>Sorry, I'll call later</td>\n",
       "      <td>30</td>\n",
       "    </tr>\n",
       "  </tbody>\n",
       "</table>\n",
       "</div>"
      ],
      "text/plain": [
       "      v2                                                               \n",
       "   count unique                                                top freq\n",
       "v1                                                                     \n",
       "0    747    653  Please call our customer service representativ...    4\n",
       "1   4825   4516                             Sorry, I'll call later   30"
      ]
     },
     "execution_count": 8,
     "metadata": {},
     "output_type": "execute_result"
    }
   ],
   "source": [
    "data.groupby('v1').describe()"
   ]
  },
  {
   "cell_type": "markdown",
   "metadata": {},
   "source": [
    "#### We can see, among 5572 data, there are 747 spam data and 4872 ham data\n",
    "#### We can further visualize it"
   ]
  },
  {
   "cell_type": "code",
   "execution_count": 9,
   "metadata": {},
   "outputs": [],
   "source": [
    "import seaborn as sns"
   ]
  },
  {
   "cell_type": "code",
   "execution_count": 10,
   "metadata": {},
   "outputs": [],
   "source": [
    "import matplotlib.pyplot as plt\n",
    "%matplotlib inline"
   ]
  },
  {
   "cell_type": "code",
   "execution_count": 11,
   "metadata": {},
   "outputs": [
    {
     "data": {
      "image/png": "[encoded data removed]",
      "text/plain": [
       "<Figure size 432x288 with 1 Axes>"
      ]
     },
     "metadata": {},
     "output_type": "display_data"
    }
   ],
   "source": [
    "ax = sns.countplot(x= data['v1'])\n",
    "for p in ax.patches:\n",
    "    height = p.get_height()\n",
    "    ax.text(p.get_x()+p.get_width()/2.,\n",
    "            height + 3,\n",
    "            '{:1.2f}'.format(height/5572),\n",
    "            ha=\"center\") \n",
    "plt.show()"
   ]
  },
  {
   "cell_type": "markdown",
   "metadata": {},
   "source": [
    "##### We can visualize there are about 87% ham email and about 13% spam email in our dataset"
   ]
  },
  {
   "cell_type": "code",
   "execution_count": 12,
   "metadata": {},
   "outputs": [],
   "source": [
    "x = data['v2']\n",
    "y = data['v1']\n",
    "# data.head(5)"
   ]
  },
  {
   "cell_type": "code",
   "execution_count": 13,
   "metadata": {},
   "outputs": [],
   "source": [
    "from sklearn.model_selection import train_test_split\n",
    "x_train,x_test,y_train,y_test = train_test_split(x,y,test_size=0.3)\n"
   ]
  },
  {
   "cell_type": "markdown",
   "metadata": {},
   "source": [
    "##### Here, data is splitted into train and test set, 30% of data is assigned to test_set and rest to train_set"
   ]
  },
  {
   "cell_type": "code",
   "execution_count": 14,
   "metadata": {},
   "outputs": [],
   "source": [
    "from sklearn.feature_extraction.text import CountVectorizer\n",
    "from sklearn.feature_extraction.text import TfidfVectorizer"
   ]
  },
  {
   "cell_type": "code",
   "execution_count": 15,
   "metadata": {},
   "outputs": [],
   "source": [
    "from sklearn.naive_bayes import *\n",
    "from sklearn.dummy import *\n",
    "from sklearn.ensemble import *\n",
    "from sklearn.neighbors import *\n",
    "from sklearn.tree import *\n",
    "from sklearn.calibration import *\n",
    "from sklearn.linear_model import *\n",
    "from sklearn.multiclass import *\n",
    "from sklearn.svm import *"
   ]
  },
  {
   "cell_type": "code",
   "execution_count": 16,
   "metadata": {},
   "outputs": [],
   "source": [
    "model = [BernoulliNB(),RandomForestClassifier(n_estimators=100, n_jobs=-1),AdaBoostClassifier(),BaggingClassifier(),ExtraTreesClassifier(),GradientBoostingClassifier(),DecisionTreeClassifier(),CalibratedClassifierCV(),DummyClassifier(),PassiveAggressiveClassifier(),RidgeClassifier(),RidgeClassifierCV(),SGDClassifier(),OneVsRestClassifier(SVC(kernel='linear')),OneVsRestClassifier(LogisticRegression()),KNeighborsClassifier()]"
   ]
  },
  {
   "cell_type": "markdown",
   "metadata": {},
   "source": [
    "##### This are the type of model we are using to see how it behaves with our dataset"
   ]
  },
  {
   "cell_type": "code",
   "execution_count": 17,
   "metadata": {},
   "outputs": [],
   "source": [
    "vactorizer = [CountVectorizer(),TfidfVectorizer()]"
   ]
  },
  {
   "cell_type": "markdown",
   "metadata": {},
   "source": [
    "##### Here, using two type of vectorizer"
   ]
  },
  {
   "cell_type": "code",
   "execution_count": 18,
   "metadata": {},
   "outputs": [],
   "source": [
    "table = []\n",
    "def combined_loop(models,vactorizers,x_train,x_test,y_train,y_test):\n",
    "    for model in models:\n",
    "        for vact in vactorizers:\n",
    "            vectorize_text = vact.fit_transform(x_train)\n",
    "            model.fit(vectorize_text, y_train)\n",
    "            vectorize_text = vact.transform(x_test)\n",
    "            score = model.score(vectorize_text, y_test)\n",
    "            a = [model.__class__.__name__, vact.__class__.__name__,score]\n",
    "            table.append(a)\n",
    "            "
   ]
  },
  {
   "cell_type": "code",
   "execution_count": null,
   "metadata": {},
   "outputs": [],
   "source": [
    "combined_loop(model, vactorizer, x_train, x_test, y_train, y_test)"
   ]
  },
  {
   "cell_type": "code",
   "execution_count": 20,
   "metadata": {},
   "outputs": [],
   "source": [
    "prediction_dataframe = pd.DataFrame(table,columns=['Model','Vectorizer','Score'])"
   ]
  },
  {
   "cell_type": "code",
   "execution_count": 21,
   "metadata": {},
   "outputs": [],
   "source": [
    "prediction_dataframe['Score'] = solti_dataframe['Score']*100"
   ]
  },
  {
   "cell_type": "code",
   "execution_count": 22,
   "metadata": {},
   "outputs": [
    {
     "data": {
      "text/html": [
       "<div>\n",
       "<style scoped>\n",
       "    .dataframe tbody tr th:only-of-type {\n",
       "        vertical-align: middle;\n",
       "    }\n",
       "\n",
       "    .dataframe tbody tr th {\n",
       "        vertical-align: top;\n",
       "    }\n",
       "\n",
       "    .dataframe thead th {\n",
       "        text-align: right;\n",
       "    }\n",
       "</style>\n",
       "<table border=\"1\" class=\"dataframe\">\n",
       "  <thead>\n",
       "    <tr style=\"text-align: right;\">\n",
       "      <th></th>\n",
       "      <th>Model</th>\n",
       "      <th>Vectorizer</th>\n",
       "      <th>Score</th>\n",
       "    </tr>\n",
       "  </thead>\n",
       "  <tbody>\n",
       "    <tr>\n",
       "      <th>0</th>\n",
       "      <td>BernoulliNB</td>\n",
       "      <td>CountVectorizer</td>\n",
       "      <td>97.488038</td>\n",
       "    </tr>\n",
       "    <tr>\n",
       "      <th>1</th>\n",
       "      <td>BernoulliNB</td>\n",
       "      <td>TfidfVectorizer</td>\n",
       "      <td>97.488038</td>\n",
       "    </tr>\n",
       "    <tr>\n",
       "      <th>2</th>\n",
       "      <td>RandomForestClassifier</td>\n",
       "      <td>CountVectorizer</td>\n",
       "      <td>97.368421</td>\n",
       "    </tr>\n",
       "    <tr>\n",
       "      <th>3</th>\n",
       "      <td>RandomForestClassifier</td>\n",
       "      <td>TfidfVectorizer</td>\n",
       "      <td>97.607656</td>\n",
       "    </tr>\n",
       "    <tr>\n",
       "      <th>4</th>\n",
       "      <td>AdaBoostClassifier</td>\n",
       "      <td>CountVectorizer</td>\n",
       "      <td>96.949761</td>\n",
       "    </tr>\n",
       "    <tr>\n",
       "      <th>5</th>\n",
       "      <td>AdaBoostClassifier</td>\n",
       "      <td>TfidfVectorizer</td>\n",
       "      <td>96.830144</td>\n",
       "    </tr>\n",
       "    <tr>\n",
       "      <th>6</th>\n",
       "      <td>BaggingClassifier</td>\n",
       "      <td>CountVectorizer</td>\n",
       "      <td>96.650718</td>\n",
       "    </tr>\n",
       "    <tr>\n",
       "      <th>7</th>\n",
       "      <td>BaggingClassifier</td>\n",
       "      <td>TfidfVectorizer</td>\n",
       "      <td>96.889952</td>\n",
       "    </tr>\n",
       "    <tr>\n",
       "      <th>8</th>\n",
       "      <td>ExtraTreesClassifier</td>\n",
       "      <td>CountVectorizer</td>\n",
       "      <td>98.265550</td>\n",
       "    </tr>\n",
       "    <tr>\n",
       "      <th>9</th>\n",
       "      <td>ExtraTreesClassifier</td>\n",
       "      <td>TfidfVectorizer</td>\n",
       "      <td>98.086124</td>\n",
       "    </tr>\n",
       "    <tr>\n",
       "      <th>10</th>\n",
       "      <td>GradientBoostingClassifier</td>\n",
       "      <td>CountVectorizer</td>\n",
       "      <td>96.889952</td>\n",
       "    </tr>\n",
       "    <tr>\n",
       "      <th>11</th>\n",
       "      <td>GradientBoostingClassifier</td>\n",
       "      <td>TfidfVectorizer</td>\n",
       "      <td>96.650718</td>\n",
       "    </tr>\n",
       "    <tr>\n",
       "      <th>12</th>\n",
       "      <td>DecisionTreeClassifier</td>\n",
       "      <td>CountVectorizer</td>\n",
       "      <td>96.770335</td>\n",
       "    </tr>\n",
       "    <tr>\n",
       "      <th>13</th>\n",
       "      <td>DecisionTreeClassifier</td>\n",
       "      <td>TfidfVectorizer</td>\n",
       "      <td>97.009569</td>\n",
       "    </tr>\n",
       "    <tr>\n",
       "      <th>14</th>\n",
       "      <td>CalibratedClassifierCV</td>\n",
       "      <td>CountVectorizer</td>\n",
       "      <td>98.564593</td>\n",
       "    </tr>\n",
       "    <tr>\n",
       "      <th>15</th>\n",
       "      <td>CalibratedClassifierCV</td>\n",
       "      <td>TfidfVectorizer</td>\n",
       "      <td>98.744019</td>\n",
       "    </tr>\n",
       "    <tr>\n",
       "      <th>16</th>\n",
       "      <td>DummyClassifier</td>\n",
       "      <td>CountVectorizer</td>\n",
       "      <td>76.495215</td>\n",
       "    </tr>\n",
       "    <tr>\n",
       "      <th>17</th>\n",
       "      <td>DummyClassifier</td>\n",
       "      <td>TfidfVectorizer</td>\n",
       "      <td>77.153110</td>\n",
       "    </tr>\n",
       "    <tr>\n",
       "      <th>18</th>\n",
       "      <td>PassiveAggressiveClassifier</td>\n",
       "      <td>CountVectorizer</td>\n",
       "      <td>98.205742</td>\n",
       "    </tr>\n",
       "    <tr>\n",
       "      <th>19</th>\n",
       "      <td>PassiveAggressiveClassifier</td>\n",
       "      <td>TfidfVectorizer</td>\n",
       "      <td>98.624402</td>\n",
       "    </tr>\n",
       "    <tr>\n",
       "      <th>20</th>\n",
       "      <td>RidgeClassifier</td>\n",
       "      <td>CountVectorizer</td>\n",
       "      <td>97.846890</td>\n",
       "    </tr>\n",
       "    <tr>\n",
       "      <th>21</th>\n",
       "      <td>RidgeClassifier</td>\n",
       "      <td>TfidfVectorizer</td>\n",
       "      <td>98.205742</td>\n",
       "    </tr>\n",
       "    <tr>\n",
       "      <th>22</th>\n",
       "      <td>RidgeClassifierCV</td>\n",
       "      <td>CountVectorizer</td>\n",
       "      <td>98.205742</td>\n",
       "    </tr>\n",
       "    <tr>\n",
       "      <th>23</th>\n",
       "      <td>RidgeClassifierCV</td>\n",
       "      <td>TfidfVectorizer</td>\n",
       "      <td>98.444976</td>\n",
       "    </tr>\n",
       "    <tr>\n",
       "      <th>24</th>\n",
       "      <td>SGDClassifier</td>\n",
       "      <td>CountVectorizer</td>\n",
       "      <td>98.385167</td>\n",
       "    </tr>\n",
       "    <tr>\n",
       "      <th>25</th>\n",
       "      <td>SGDClassifier</td>\n",
       "      <td>TfidfVectorizer</td>\n",
       "      <td>98.684211</td>\n",
       "    </tr>\n",
       "    <tr>\n",
       "      <th>26</th>\n",
       "      <td>OneVsRestClassifier</td>\n",
       "      <td>CountVectorizer</td>\n",
       "      <td>98.385167</td>\n",
       "    </tr>\n",
       "    <tr>\n",
       "      <th>27</th>\n",
       "      <td>OneVsRestClassifier</td>\n",
       "      <td>TfidfVectorizer</td>\n",
       "      <td>98.624402</td>\n",
       "    </tr>\n",
       "    <tr>\n",
       "      <th>28</th>\n",
       "      <td>OneVsRestClassifier</td>\n",
       "      <td>CountVectorizer</td>\n",
       "      <td>98.086124</td>\n",
       "    </tr>\n",
       "    <tr>\n",
       "      <th>29</th>\n",
       "      <td>OneVsRestClassifier</td>\n",
       "      <td>TfidfVectorizer</td>\n",
       "      <td>96.710526</td>\n",
       "    </tr>\n",
       "    <tr>\n",
       "      <th>30</th>\n",
       "      <td>KNeighborsClassifier</td>\n",
       "      <td>CountVectorizer</td>\n",
       "      <td>89.952153</td>\n",
       "    </tr>\n",
       "    <tr>\n",
       "      <th>31</th>\n",
       "      <td>KNeighborsClassifier</td>\n",
       "      <td>TfidfVectorizer</td>\n",
       "      <td>89.294258</td>\n",
       "    </tr>\n",
       "  </tbody>\n",
       "</table>\n",
       "</div>"
      ],
      "text/plain": [
       "                          Model       Vectorizer      Score\n",
       "0                   BernoulliNB  CountVectorizer  97.488038\n",
       "1                   BernoulliNB  TfidfVectorizer  97.488038\n",
       "2        RandomForestClassifier  CountVectorizer  97.368421\n",
       "3        RandomForestClassifier  TfidfVectorizer  97.607656\n",
       "4            AdaBoostClassifier  CountVectorizer  96.949761\n",
       "5            AdaBoostClassifier  TfidfVectorizer  96.830144\n",
       "6             BaggingClassifier  CountVectorizer  96.650718\n",
       "7             BaggingClassifier  TfidfVectorizer  96.889952\n",
       "8          ExtraTreesClassifier  CountVectorizer  98.265550\n",
       "9          ExtraTreesClassifier  TfidfVectorizer  98.086124\n",
       "10   GradientBoostingClassifier  CountVectorizer  96.889952\n",
       "11   GradientBoostingClassifier  TfidfVectorizer  96.650718\n",
       "12       DecisionTreeClassifier  CountVectorizer  96.770335\n",
       "13       DecisionTreeClassifier  TfidfVectorizer  97.009569\n",
       "14       CalibratedClassifierCV  CountVectorizer  98.564593\n",
       "15       CalibratedClassifierCV  TfidfVectorizer  98.744019\n",
       "16              DummyClassifier  CountVectorizer  76.495215\n",
       "17              DummyClassifier  TfidfVectorizer  77.153110\n",
       "18  PassiveAggressiveClassifier  CountVectorizer  98.205742\n",
       "19  PassiveAggressiveClassifier  TfidfVectorizer  98.624402\n",
       "20              RidgeClassifier  CountVectorizer  97.846890\n",
       "21              RidgeClassifier  TfidfVectorizer  98.205742\n",
       "22            RidgeClassifierCV  CountVectorizer  98.205742\n",
       "23            RidgeClassifierCV  TfidfVectorizer  98.444976\n",
       "24                SGDClassifier  CountVectorizer  98.385167\n",
       "25                SGDClassifier  TfidfVectorizer  98.684211\n",
       "26          OneVsRestClassifier  CountVectorizer  98.385167\n",
       "27          OneVsRestClassifier  TfidfVectorizer  98.624402\n",
       "28          OneVsRestClassifier  CountVectorizer  98.086124\n",
       "29          OneVsRestClassifier  TfidfVectorizer  96.710526\n",
       "30         KNeighborsClassifier  CountVectorizer  89.952153\n",
       "31         KNeighborsClassifier  TfidfVectorizer  89.294258"
      ]
     },
     "execution_count": 22,
     "metadata": {},
     "output_type": "execute_result"
    }
   ],
   "source": [
    "prediction_dataframe"
   ]
  },
  {
   "cell_type": "markdown",
   "metadata": {},
   "source": [
    "##### Given, dataframe shows the score, we get after training and testing our dataset with different model and vectorizer"
   ]
  },
  {
   "cell_type": "code",
   "execution_count": 24,
   "metadata": {},
   "outputs": [
    {
     "data": {
      "text/plain": [
       "<matplotlib.axes._subplots.AxesSubplot at 0x18c9aef2da0>"
      ]
     },
     "execution_count": 24,
     "metadata": {},
     "output_type": "execute_result"
    },
    {
     "data": {
      "image/png": "[encoded data removed]",
      "text/plain": [
       "<Figure size 432x288 with 1 Axes>"
      ]
     },
     "metadata": {},
     "output_type": "display_data"
    }
   ],
   "source": [
    "sns.scatterplot(hue= prediction_dataframe['Vectorizer'], y=prediction_dataframe['Model'], x=prediction_dataframe['Score'])"
   ]
  },
  {
   "cell_type": "markdown",
   "metadata": {},
   "source": [
    "Figure: Visualization between score value with different model and vactorizer "
   ]
  },
  {
   "cell_type": "markdown",
   "metadata": {},
   "source": [
    "### As, SGDClassifier with TfidVectorizer yeild more score. So, we are using SGDClassifier as our model with TfidVectorizer"
   ]
  },
  {
   "cell_type": "code",
   "execution_count": null,
   "metadata": {},
   "outputs": [],
   "source": [
    "model = SGDClassifier()\n",
    "vact = TfidfVectorizer()\n",
    "vectorize_text = vact.fit_transform(x_train)\n",
    "model.fit(vectorize_text, y_train)\n",
    "vectorize_text = vact.transform(x_test)\n",
    "# score = model.score(vectorize_text, y_test)\n"
   ]
  },
  {
   "cell_type": "code",
   "execution_count": 58,
   "metadata": {},
   "outputs": [],
   "source": [
    "def class_show(x):\n",
    "    ''' This class returns the score to spam, ham label'''\n",
    "    if x==0:\n",
    "        return 'Spam message'\n",
    "    else:\n",
    "        return 'Ham message'"
   ]
  },
  {
   "cell_type": "markdown",
   "metadata": {},
   "source": [
    "### Let's check with other example, how our model prediction."
   ]
  },
  {
   "cell_type": "code",
   "execution_count": 59,
   "metadata": {},
   "outputs": [
    {
     "name": "stdout",
     "output_type": "stream",
     "text": [
      "Ham message\n"
     ]
    }
   ],
   "source": [
    "new_text_vector = vact.transform([\"call me urgent\"])\n",
    "a = model.predict(new_text_vector)\n",
    "print(class_show(a))"
   ]
  },
  {
   "cell_type": "code",
   "execution_count": 60,
   "metadata": {},
   "outputs": [
    {
     "name": "stdout",
     "output_type": "stream",
     "text": [
      "Spam message\n"
     ]
    }
   ],
   "source": [
    "new_text_vector = vact.transform([\"Welcome to our new offering!\"])\n",
    "a = model.predict(new_text_vector)\n",
    "print(class_show(a))"
   ]
  },
  {
   "cell_type": "code",
   "execution_count": 62,
   "metadata": {},
   "outputs": [
    {
     "name": "stdout",
     "output_type": "stream",
     "text": [
      "Ham message\n"
     ]
    }
   ],
   "source": [
    "new_text_vector = vact.transform([\"ncorporating interactive can move your firm upstream strategically,especially if you understand that interactive work is really database marketing reborn. Providing [prospects] with interactive opportunities is tantamount to allowing them to emerge incognito from the protected castle to sample the promises before they lower the drawbridge again. In this [case] the consumer has initiated and then defined the sales context. And as a potential buyer he is far more likely to buy because he has reestablished control, first by learning more in an environment where he controls the shape and pacing of the information, and then by giving permission to sell to him\"])\n",
    "a = model.predict(new_text_vector)\n",
    "print(class_show(a))"
   ]
  },
  {
   "cell_type": "code",
   "execution_count": null,
   "metadata": {},
   "outputs": [],
   "source": []
  }
 ],
 "metadata": {
  "kernelspec": {
   "display_name": "Python 3",
   "language": "python",
   "name": "python3"
  },
  "language_info": {
   "codemirror_mode": {
    "name": "ipython",
    "version": 3
   },
   "file_extension": ".py",
   "mimetype": "text/x-python",
   "name": "python",
   "nbconvert_exporter": "python",
   "pygments_lexer": "ipython3",
   "version": "3.6.4"
  }
 },
 "nbformat": 4,
 "nbformat_minor": 2
}
